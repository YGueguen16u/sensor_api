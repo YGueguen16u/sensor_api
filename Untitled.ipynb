{
 "cells": [
  {
   "cell_type": "markdown",
   "id": "8b4c472e-0ace-4b56-9f65-54cda69f0519",
   "metadata": {},
   "source": [
    "# Sensor_api\n",
    "Food-Tracking Data Generation for DE Project\n",
    "\n",
    "## What we want \n",
    "We want to generate fake data for a data engineering project which consist on tracking food habits of consumer of an app.\n",
    "\n",
    "This api will generate for a specific client the following data \n",
    "\n",
    "### Final tab per user\n",
    "\n",
    "What we want to return it's a table for each food and its quantity for a meal at a specific date for a specific user\n",
    "\n",
    "```python\n",
    "{\"food_per_day_id\" :\n",
    " \"user_id\" :\n",
    " \"Date\" :\n",
    " \"meal_id\" :\n",
    " \"food_id\" : \n",
    " \"quantity\" :\n",
    "}\n",
    "```\n",
    "\n",
    "### How does it work ?\n",
    "\n",
    "App.py\n",
    "\n",
    "\n"
   ]
  },
  {
   "cell_type": "markdown",
   "id": "1d929817-55f3-4be4-90e2-6c92617da151",
   "metadata": {},
   "source": [
    "```plantuml\r\n",
    "@startuml\r\n",
    "Alice -> Bob: Bonjour Bob, comment ça va ?\r\n",
    "Bob --> Alice: Bien Alice, merci !\r\n",
    "@enduml\r\n",
    "ci !\r\n"
   ]
  },
  {
   "cell_type": "markdown",
   "id": "4f19f15c-d2eb-4a43-a621-50074806c465",
   "metadata": {},
   "source": []
  },
  {
   "cell_type": "markdown",
   "id": "99442fec-523a-46be-8bbf-26b854c64945",
   "metadata": {},
   "source": [
    "```mermaid\n",
    "\n",
    "    classDiagram\n",
    "    Class01 <|-- AveryLongClass : Cool\n",
    "    <<Interface>> Class01\n",
    "    Class09 --> C2 : Where am I?\n",
    "    Class09 --* C3\n",
    "    Class09 --|> Class07\n",
    "    Class07 : equals()\n",
    "    Class07 : Object[] elementData\n",
    "    Class01 : size()\n",
    "    Class01 : int chimp\n",
    "    Class01 : int gorilla\n",
    "    class Class10 {\n",
    "      <<service>>\n",
    "      int id\n",
    "      size()\n",
    "    }\n",
    "```"
   ]
  },
  {
   "cell_type": "code",
   "execution_count": null,
   "id": "151376ce-55dc-4f3b-b6d8-feb93efefafd",
   "metadata": {},
   "outputs": [],
   "source": []
  }
 ],
 "metadata": {
  "kernelspec": {
   "display_name": "Python 3 (ipykernel)",
   "language": "python",
   "name": "python3"
  },
  "language_info": {
   "codemirror_mode": {
    "name": "ipython",
    "version": 3
   },
   "file_extension": ".py",
   "mimetype": "text/x-python",
   "name": "python",
   "nbconvert_exporter": "python",
   "pygments_lexer": "ipython3",
   "version": "3.11.7"
  }
 },
 "nbformat": 4,
 "nbformat_minor": 5
}
