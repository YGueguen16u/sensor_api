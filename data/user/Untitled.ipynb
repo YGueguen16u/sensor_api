{
 "cells": [
  {
   "cell_type": "code",
   "execution_count": 19,
   "id": "51c860d0-bfbb-421a-b972-1c4a385f65ba",
   "metadata": {},
   "outputs": [],
   "source": [
    "import pandas as pd\n",
    "import numpy as np"
   ]
  },
  {
   "cell_type": "code",
   "execution_count": null,
   "id": "ca0446ca-e68b-4bf9-b68d-ba08665a4409",
   "metadata": {},
   "outputs": [],
   "source": [
    "aliments_df = pd.read_excel(r\"C:\\Users\\GUEGUEN\\Desktop\\WSApp\\IM\\DB\\raw_food_data\\food_processed.XLSX\")\n",
    "probabilites_df = pd.read_excel(\"random_eater_class.xlsx\")\n"
   ]
  },
  {
   "cell_type": "code",
   "execution_count": 36,
   "id": "2d2bfd5c-3f2f-4777-8c8a-37569b0a3dba",
   "metadata": {},
   "outputs": [],
   "source": [
    "# Fonction pour sélectionner des types d'aliments basés sur les probabilités\n",
    "def choisir_types_aliments(probabilites_df):\n",
    "    types = probabilites_df['Types']\n",
    "    moyennes = probabilites_df['Meal_1_avg']\n",
    "    std_devs = probabilites_df['Meal_1_std']\n",
    "    \n",
    "    probabilites = np.random.normal(moyennes, std_devs)\n",
    "    probabilites = np.clip(probabilites, 0, None)  # S'assurer que les probabilités ne sont pas négatives\n",
    "    \n",
    "    total_probabilite = np.sum(probabilites)\n",
    "    probabilites = probabilites / total_probabilite  # Normaliser pour que la somme des probabilités soit 1\n",
    "    \n",
    "    types_choisis = np.random.choice(types, size=len(types), p=probabilites)\n",
    "    return types_choisis"
   ]
  },
  {
   "cell_type": "code",
   "execution_count": 37,
   "id": "7b219c34-0d42-47a3-80f4-56a6a939d753",
   "metadata": {},
   "outputs": [],
   "source": [
    "def choisir_aliments(aliments_df, types_choisis, min_calories=2500, max_calories=3000):\n",
    "    total_calories = 0\n",
    "    aliments_selectionnes = []\n",
    "\n",
    "    for type_aliment in types_choisis:\n",
    "        aliments_du_type = aliments_df[aliments_df['Type'] == type_aliment]\n",
    "        aliment_choisi = aliments_du_type.sample(n=1).iloc[0]\n",
    "        total_calories += aliment_choisi['Valeur calorique']\n",
    "        aliments_selectionnes.append(aliment_choisi)\n",
    "        \n",
    "        if total_calories >= min_calories:\n",
    "            break\n",
    "    \n",
    "    # Si le total dépasse max_calories, retirer des aliments avec les plus faibles probabilités\n",
    "    while total_calories > max_calories:\n",
    "        aliments_selectionnes.sort(key=lambda x: probabilites_df[probabilites_df['Types'] == x['Types']]['Meal_1_avg'].values[0])\n",
    "        aliment_a_retirer = aliments_selectionnes.pop(0)\n",
    "        total_calories -= aliment_a_retirer['Valeur calorique']\n",
    "    \n",
    "    return aliments_selectionnes\n"
   ]
  },
  {
   "cell_type": "code",
   "execution_count": 38,
   "id": "d2c0a392-55ed-4bed-bf9d-beec2d52a2d4",
   "metadata": {},
   "outputs": [],
   "source": [
    "# Exemple d'utilisation\n",
    "types_choisis = choisir_types_aliments(probabilites_df)\n",
    "aliments_selectionnes = choisir_aliments(aliments_df, types_choisis)"
   ]
  },
  {
   "cell_type": "code",
   "execution_count": 39,
   "id": "22432adf-3277-468c-a78c-5d93856cbee3",
   "metadata": {},
   "outputs": [
    {
     "name": "stdout",
     "output_type": "stream",
     "text": [
      "Eau 0.0 Valeur calorique\n",
      "Frites 13.0 Valeur calorique\n",
      "Clémentine 35.0 Valeur calorique\n",
      "Pain à l'ail 151.0 Valeur calorique\n",
      "Pain pita 165.0 Valeur calorique\n",
      "Sandwich au rôti de bœuf 346.0 Valeur calorique\n",
      "Pizza au pepperoni, Domino's 2.476 Valeur calorique\n",
      "Frites 13.0 Valeur calorique\n",
      "Frites 13.0 Valeur calorique\n",
      "Tisane 2.0 Valeur calorique\n",
      "Pain au son d'avoine 71.0 Valeur calorique\n",
      "Laitue Iceberg 8.0 Valeur calorique\n",
      "Petit pain 76.0 Valeur calorique\n",
      "Yaourt à la vanille 129.0 Valeur calorique\n",
      "Pecorino Romano 19.0 Valeur calorique\n",
      "Lait, écrémé 102.0 Valeur calorique\n",
      "Truffes 61.0 Valeur calorique\n",
      "Glace italienne 123.0 Valeur calorique\n",
      "Bagel 245.0 Valeur calorique\n",
      "Muffin 169.0 Valeur calorique\n",
      "Eau de source 0.0 Valeur calorique\n",
      "Quinoa, sec 37.0 Valeur calorique\n",
      "Muffin anglais 129.0 Valeur calorique\n",
      "Pain de seigle 83.0 Valeur calorique\n",
      "Thon à l'huile, en boîte 331.0 Valeur calorique\n",
      "Vinaigre 3.0 Valeur calorique\n",
      "Raisins de Corinthe, secs 408.0 Valeur calorique\n",
      "calorie =  2734.476\n"
     ]
    }
   ],
   "source": [
    "# Afficher les aliments sélectionnés\n",
    "calorie = 0\n",
    "for aliment in aliments_selectionnes:\n",
    "    calorie += aliment['Valeur calorique']\n",
    "    print(aliment['Aliment'], aliment['Valeur calorique'], 'Valeur calorique')\n",
    "\n",
    "print('calorie = ', calorie)"
   ]
  },
  {
   "cell_type": "code",
   "execution_count": null,
   "id": "3793255e-ca5c-4b73-9e00-8981e64248b1",
   "metadata": {},
   "outputs": [],
   "source": []
  },
  {
   "cell_type": "code",
   "execution_count": null,
   "id": "3022ee77-8735-43d3-a0c6-a6dfe1bf1524",
   "metadata": {},
   "outputs": [],
   "source": []
  },
  {
   "cell_type": "code",
   "execution_count": null,
   "id": "d8905af1-7048-45d5-932e-2485dd145cc3",
   "metadata": {},
   "outputs": [],
   "source": []
  },
  {
   "cell_type": "code",
   "execution_count": null,
   "id": "3605dc22-6532-46e3-b614-b4949e77d952",
   "metadata": {},
   "outputs": [],
   "source": []
  },
  {
   "cell_type": "code",
   "execution_count": null,
   "id": "ea144c93-7674-47df-9798-33531267fe2e",
   "metadata": {},
   "outputs": [],
   "source": []
  },
  {
   "cell_type": "code",
   "execution_count": null,
   "id": "62a817af-18ba-4b98-be34-f103274f1953",
   "metadata": {},
   "outputs": [],
   "source": []
  },
  {
   "cell_type": "code",
   "execution_count": null,
   "id": "5b27698d-0e31-40b0-bd03-cb8461948b2a",
   "metadata": {},
   "outputs": [],
   "source": []
  },
  {
   "cell_type": "code",
   "execution_count": null,
   "id": "ea212712-907e-4ee3-a80a-d28b9c82837b",
   "metadata": {},
   "outputs": [],
   "source": []
  },
  {
   "cell_type": "code",
   "execution_count": null,
   "id": "2ad7bba8-ac1d-49d2-8a04-5439854bec05",
   "metadata": {},
   "outputs": [],
   "source": []
  },
  {
   "cell_type": "code",
   "execution_count": null,
   "id": "e15ffb58-2236-4a5a-a2cd-d8068a21cb7b",
   "metadata": {},
   "outputs": [],
   "source": []
  },
  {
   "cell_type": "code",
   "execution_count": null,
   "id": "7e49e44f-0aae-4b49-b575-5b2bf6c73b9c",
   "metadata": {},
   "outputs": [],
   "source": []
  }
 ],
 "metadata": {
  "kernelspec": {
   "display_name": "Python 3 (ipykernel)",
   "language": "python",
   "name": "python3"
  },
  "language_info": {
   "codemirror_mode": {
    "name": "ipython",
    "version": 3
   },
   "file_extension": ".py",
   "mimetype": "text/x-python",
   "name": "python",
   "nbconvert_exporter": "python",
   "pygments_lexer": "ipython3",
   "version": "3.11.7"
  }
 },
 "nbformat": 4,
 "nbformat_minor": 5
}
